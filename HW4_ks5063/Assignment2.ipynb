{
 "cells": [
  {
   "cell_type": "code",
   "execution_count": 1,
   "metadata": {},
   "outputs": [
    {
     "name": "stdout",
     "output_type": "stream",
     "text": [
      "Populating the interactive namespace from numpy and matplotlib\n"
     ]
    }
   ],
   "source": [
    "from __future__  import print_function, division\n",
    "import pylab as pl\n",
    "import matplotlib.pyplot as plt\n",
    "import pandas as pd\n",
    "import numpy as np\n",
    "import os\n",
    "%pylab inline"
   ]
  },
  {
   "cell_type": "markdown",
   "metadata": {},
   "source": [
    "IDEA : Young people are more likely to be subscribers of Citibike.\n",
    "\n",
    "NULL HYPOTHESIS : The average age of the subscribers is the same or higher than the average age of the customers.\n",
    "\n",
    "ALTERNATIVE HYPOTHESIS: The average age of subscibers is significantly lesser than the average age of the customers.\n",
    "\n",
    "H0: $\\frac{\\sum{Age_{\\mathrm{Subsciber}}}}{\\sum{Total_{\\mathrm{Subsciber}}}} >= \\frac{\\sum{Age_{\\mathrm{Customer}}}}{\\sum{Total_{\\mathrm{Customer}}}}$\n",
    "\n",
    "H1: $\\frac{\\sum{Age_{\\mathrm{Subsciber}}}}{\\sum{Total_{\\mathrm{Subsciber}}}} < \\frac{\\sum{Age_{\\mathrm{Customer}}}}{\\sum{Total_{\\mathrm{Customer}}}}$\n",
    "\n",
    "I will use a significance level  $\\alpha=0.05$\n"
   ]
  },
  {
   "cell_type": "code",
   "execution_count": 2,
   "metadata": {},
   "outputs": [
    {
     "name": "stdout",
     "output_type": "stream",
     "text": [
      "PUIdata /nfshome/ks5063/PUIdata\n"
     ]
    }
   ],
   "source": [
    "print(\"PUIdata\", os.getenv(\"PUIDATA\"))"
   ]
  },
  {
   "cell_type": "code",
   "execution_count": 3,
   "metadata": {},
   "outputs": [
    {
     "name": "stdout",
     "output_type": "stream",
     "text": [
      "PUIdata /nfshome/ks5063/PUIdata\n"
     ]
    }
   ],
   "source": [
    "#create the env variable if missing\n",
    "os.environ[\"PUIDATA\"] = \"%s/PUIdata\"%os.getenv(\"HOME\")\n",
    "\n",
    "print(\"PUIdata\", os.getenv(\"PUIDATA\"))"
   ]
  },
  {
   "cell_type": "code",
   "execution_count": 4,
   "metadata": {},
   "outputs": [
    {
     "name": "stdout",
     "output_type": "stream",
     "text": [
      "  % Total    % Received % Xferd  Average Speed   Time    Time     Time  Current\n",
      "                                 Dload  Upload   Total   Spent    Left  Speed\n",
      "100 1053k  100 1053k    0     0  4906k      0 --:--:-- --:--:-- --:--:-- 4922k\n"
     ]
    }
   ],
   "source": [
    "!curl -O https://s3.amazonaws.com/tripdata/JC-201806-citibike-tripdata.csv.zip\n",
    "#os.system(\"curl -O https://s3.amazonaws.com/tripdata/JC-201806-citibike-tripdata.csv.zip\")"
   ]
  },
  {
   "cell_type": "code",
   "execution_count": 5,
   "metadata": {},
   "outputs": [
    {
     "name": "stdout",
     "output_type": "stream",
     "text": [
      "Archive:  JC-201806-citibike-tripdata.csv.zip\n",
      "  inflating: JC-201806-citibike-tripdata.csv  \n"
     ]
    }
   ],
   "source": [
    "!unzip JC-201806-citibike-tripdata.csv.zip"
   ]
  },
  {
   "cell_type": "code",
   "execution_count": 6,
   "metadata": {},
   "outputs": [],
   "source": [
    "#os.system(\"mv \" + \"JC-201806-citibike-tripdata.zip \" + os.getenv(\"PUIDATA\")\n",
    "!mv JC-201806-citibike-tripdata.csv $PUIDATA         "
   ]
  },
  {
   "cell_type": "code",
   "execution_count": 7,
   "metadata": {},
   "outputs": [
    {
     "name": "stdout",
     "output_type": "stream",
     "text": [
      "campaign_contributions.csv  JC-201806-citibike-tripdata.csv  nypl_bronx.csv\r\n"
     ]
    }
   ],
   "source": [
    "!ls $PUIDATA"
   ]
  },
  {
   "cell_type": "code",
   "execution_count": 8,
   "metadata": {},
   "outputs": [],
   "source": [
    "df = pd.read_csv(os.getenv(\"PUIDATA\") + \"/JC-201806-citibike-tripdata.csv\")"
   ]
  },
  {
   "cell_type": "code",
   "execution_count": 9,
   "metadata": {},
   "outputs": [
    {
     "data": {
      "text/html": [
       "<div>\n",
       "<table border=\"1\" class=\"dataframe\">\n",
       "  <thead>\n",
       "    <tr style=\"text-align: right;\">\n",
       "      <th></th>\n",
       "      <th>tripduration</th>\n",
       "      <th>starttime</th>\n",
       "      <th>stoptime</th>\n",
       "      <th>start station id</th>\n",
       "      <th>start station name</th>\n",
       "      <th>start station latitude</th>\n",
       "      <th>start station longitude</th>\n",
       "      <th>end station id</th>\n",
       "      <th>end station name</th>\n",
       "      <th>end station latitude</th>\n",
       "      <th>end station longitude</th>\n",
       "      <th>bikeid</th>\n",
       "      <th>usertype</th>\n",
       "      <th>birth year</th>\n",
       "      <th>gender</th>\n",
       "    </tr>\n",
       "  </thead>\n",
       "  <tbody>\n",
       "    <tr>\n",
       "      <th>0</th>\n",
       "      <td>329</td>\n",
       "      <td>2018-06-01 07:07:00.2990</td>\n",
       "      <td>2018-06-01 07:12:30.2220</td>\n",
       "      <td>3183</td>\n",
       "      <td>Exchange Place</td>\n",
       "      <td>40.716247</td>\n",
       "      <td>-74.033459</td>\n",
       "      <td>3276</td>\n",
       "      <td>Marin Light Rail</td>\n",
       "      <td>40.714584</td>\n",
       "      <td>-74.042817</td>\n",
       "      <td>29513</td>\n",
       "      <td>Subscriber</td>\n",
       "      <td>1991</td>\n",
       "      <td>1</td>\n",
       "    </tr>\n",
       "    <tr>\n",
       "      <th>1</th>\n",
       "      <td>259</td>\n",
       "      <td>2018-06-01 08:24:43.8490</td>\n",
       "      <td>2018-06-01 08:29:03.8450</td>\n",
       "      <td>3183</td>\n",
       "      <td>Exchange Place</td>\n",
       "      <td>40.716247</td>\n",
       "      <td>-74.033459</td>\n",
       "      <td>3267</td>\n",
       "      <td>Morris Canal</td>\n",
       "      <td>40.712419</td>\n",
       "      <td>-74.038526</td>\n",
       "      <td>26221</td>\n",
       "      <td>Subscriber</td>\n",
       "      <td>1989</td>\n",
       "      <td>2</td>\n",
       "    </tr>\n",
       "    <tr>\n",
       "      <th>2</th>\n",
       "      <td>686</td>\n",
       "      <td>2018-06-01 09:17:49.5730</td>\n",
       "      <td>2018-06-01 09:29:16.1770</td>\n",
       "      <td>3183</td>\n",
       "      <td>Exchange Place</td>\n",
       "      <td>40.716247</td>\n",
       "      <td>-74.033459</td>\n",
       "      <td>3202</td>\n",
       "      <td>Newport PATH</td>\n",
       "      <td>40.727224</td>\n",
       "      <td>-74.033759</td>\n",
       "      <td>29266</td>\n",
       "      <td>Subscriber</td>\n",
       "      <td>1990</td>\n",
       "      <td>1</td>\n",
       "    </tr>\n",
       "    <tr>\n",
       "      <th>3</th>\n",
       "      <td>164</td>\n",
       "      <td>2018-06-01 09:44:00.4020</td>\n",
       "      <td>2018-06-01 09:46:44.6830</td>\n",
       "      <td>3183</td>\n",
       "      <td>Exchange Place</td>\n",
       "      <td>40.716247</td>\n",
       "      <td>-74.033459</td>\n",
       "      <td>3267</td>\n",
       "      <td>Morris Canal</td>\n",
       "      <td>40.712419</td>\n",
       "      <td>-74.038526</td>\n",
       "      <td>29472</td>\n",
       "      <td>Subscriber</td>\n",
       "      <td>1993</td>\n",
       "      <td>1</td>\n",
       "    </tr>\n",
       "    <tr>\n",
       "      <th>4</th>\n",
       "      <td>769</td>\n",
       "      <td>2018-06-01 09:59:28.7800</td>\n",
       "      <td>2018-06-01 10:12:18.6660</td>\n",
       "      <td>3183</td>\n",
       "      <td>Exchange Place</td>\n",
       "      <td>40.716247</td>\n",
       "      <td>-74.033459</td>\n",
       "      <td>3203</td>\n",
       "      <td>Hamilton Park</td>\n",
       "      <td>40.727596</td>\n",
       "      <td>-74.044247</td>\n",
       "      <td>33679</td>\n",
       "      <td>Subscriber</td>\n",
       "      <td>1977</td>\n",
       "      <td>1</td>\n",
       "    </tr>\n",
       "    <tr>\n",
       "      <th>5</th>\n",
       "      <td>256</td>\n",
       "      <td>2018-06-01 10:33:02.1100</td>\n",
       "      <td>2018-06-01 10:37:18.1230</td>\n",
       "      <td>3183</td>\n",
       "      <td>Exchange Place</td>\n",
       "      <td>40.716247</td>\n",
       "      <td>-74.033459</td>\n",
       "      <td>3267</td>\n",
       "      <td>Morris Canal</td>\n",
       "      <td>40.712419</td>\n",
       "      <td>-74.038526</td>\n",
       "      <td>29269</td>\n",
       "      <td>Subscriber</td>\n",
       "      <td>1984</td>\n",
       "      <td>1</td>\n",
       "    </tr>\n",
       "    <tr>\n",
       "      <th>6</th>\n",
       "      <td>267</td>\n",
       "      <td>2018-06-01 11:33:22.6440</td>\n",
       "      <td>2018-06-01 11:37:50.0350</td>\n",
       "      <td>3183</td>\n",
       "      <td>Exchange Place</td>\n",
       "      <td>40.716247</td>\n",
       "      <td>-74.033459</td>\n",
       "      <td>3481</td>\n",
       "      <td>York St</td>\n",
       "      <td>40.716490</td>\n",
       "      <td>-74.041050</td>\n",
       "      <td>29551</td>\n",
       "      <td>Subscriber</td>\n",
       "      <td>1988</td>\n",
       "      <td>1</td>\n",
       "    </tr>\n",
       "    <tr>\n",
       "      <th>7</th>\n",
       "      <td>258</td>\n",
       "      <td>2018-06-01 12:07:49.8830</td>\n",
       "      <td>2018-06-01 12:12:08.0190</td>\n",
       "      <td>3183</td>\n",
       "      <td>Exchange Place</td>\n",
       "      <td>40.716247</td>\n",
       "      <td>-74.033459</td>\n",
       "      <td>3186</td>\n",
       "      <td>Grove St PATH</td>\n",
       "      <td>40.719586</td>\n",
       "      <td>-74.043117</td>\n",
       "      <td>26271</td>\n",
       "      <td>Subscriber</td>\n",
       "      <td>1976</td>\n",
       "      <td>1</td>\n",
       "    </tr>\n",
       "    <tr>\n",
       "      <th>8</th>\n",
       "      <td>1247</td>\n",
       "      <td>2018-06-01 12:53:24.8470</td>\n",
       "      <td>2018-06-01 13:14:11.8770</td>\n",
       "      <td>3183</td>\n",
       "      <td>Exchange Place</td>\n",
       "      <td>40.716247</td>\n",
       "      <td>-74.033459</td>\n",
       "      <td>3214</td>\n",
       "      <td>Essex Light Rail</td>\n",
       "      <td>40.712774</td>\n",
       "      <td>-74.036486</td>\n",
       "      <td>30987</td>\n",
       "      <td>Subscriber</td>\n",
       "      <td>1976</td>\n",
       "      <td>1</td>\n",
       "    </tr>\n",
       "    <tr>\n",
       "      <th>9</th>\n",
       "      <td>761</td>\n",
       "      <td>2018-06-01 13:21:09.2160</td>\n",
       "      <td>2018-06-01 13:33:50.9930</td>\n",
       "      <td>3183</td>\n",
       "      <td>Exchange Place</td>\n",
       "      <td>40.716247</td>\n",
       "      <td>-74.033459</td>\n",
       "      <td>3194</td>\n",
       "      <td>McGinley Square</td>\n",
       "      <td>40.725340</td>\n",
       "      <td>-74.067622</td>\n",
       "      <td>33659</td>\n",
       "      <td>Subscriber</td>\n",
       "      <td>1989</td>\n",
       "      <td>1</td>\n",
       "    </tr>\n",
       "  </tbody>\n",
       "</table>\n",
       "</div>"
      ],
      "text/plain": [
       "   tripduration                 starttime                  stoptime  \\\n",
       "0           329  2018-06-01 07:07:00.2990  2018-06-01 07:12:30.2220   \n",
       "1           259  2018-06-01 08:24:43.8490  2018-06-01 08:29:03.8450   \n",
       "2           686  2018-06-01 09:17:49.5730  2018-06-01 09:29:16.1770   \n",
       "3           164  2018-06-01 09:44:00.4020  2018-06-01 09:46:44.6830   \n",
       "4           769  2018-06-01 09:59:28.7800  2018-06-01 10:12:18.6660   \n",
       "5           256  2018-06-01 10:33:02.1100  2018-06-01 10:37:18.1230   \n",
       "6           267  2018-06-01 11:33:22.6440  2018-06-01 11:37:50.0350   \n",
       "7           258  2018-06-01 12:07:49.8830  2018-06-01 12:12:08.0190   \n",
       "8          1247  2018-06-01 12:53:24.8470  2018-06-01 13:14:11.8770   \n",
       "9           761  2018-06-01 13:21:09.2160  2018-06-01 13:33:50.9930   \n",
       "\n",
       "   start station id start station name  start station latitude  \\\n",
       "0              3183     Exchange Place               40.716247   \n",
       "1              3183     Exchange Place               40.716247   \n",
       "2              3183     Exchange Place               40.716247   \n",
       "3              3183     Exchange Place               40.716247   \n",
       "4              3183     Exchange Place               40.716247   \n",
       "5              3183     Exchange Place               40.716247   \n",
       "6              3183     Exchange Place               40.716247   \n",
       "7              3183     Exchange Place               40.716247   \n",
       "8              3183     Exchange Place               40.716247   \n",
       "9              3183     Exchange Place               40.716247   \n",
       "\n",
       "   start station longitude  end station id  end station name  \\\n",
       "0               -74.033459            3276  Marin Light Rail   \n",
       "1               -74.033459            3267      Morris Canal   \n",
       "2               -74.033459            3202      Newport PATH   \n",
       "3               -74.033459            3267      Morris Canal   \n",
       "4               -74.033459            3203     Hamilton Park   \n",
       "5               -74.033459            3267      Morris Canal   \n",
       "6               -74.033459            3481           York St   \n",
       "7               -74.033459            3186     Grove St PATH   \n",
       "8               -74.033459            3214  Essex Light Rail   \n",
       "9               -74.033459            3194   McGinley Square   \n",
       "\n",
       "   end station latitude  end station longitude  bikeid    usertype  \\\n",
       "0             40.714584             -74.042817   29513  Subscriber   \n",
       "1             40.712419             -74.038526   26221  Subscriber   \n",
       "2             40.727224             -74.033759   29266  Subscriber   \n",
       "3             40.712419             -74.038526   29472  Subscriber   \n",
       "4             40.727596             -74.044247   33679  Subscriber   \n",
       "5             40.712419             -74.038526   29269  Subscriber   \n",
       "6             40.716490             -74.041050   29551  Subscriber   \n",
       "7             40.719586             -74.043117   26271  Subscriber   \n",
       "8             40.712774             -74.036486   30987  Subscriber   \n",
       "9             40.725340             -74.067622   33659  Subscriber   \n",
       "\n",
       "   birth year  gender  \n",
       "0        1991       1  \n",
       "1        1989       2  \n",
       "2        1990       1  \n",
       "3        1993       1  \n",
       "4        1977       1  \n",
       "5        1984       1  \n",
       "6        1988       1  \n",
       "7        1976       1  \n",
       "8        1976       1  \n",
       "9        1989       1  "
      ]
     },
     "execution_count": 9,
     "metadata": {},
     "output_type": "execute_result"
    }
   ],
   "source": [
    "df.head(10)"
   ]
  },
  {
   "cell_type": "code",
   "execution_count": 10,
   "metadata": {},
   "outputs": [],
   "source": [
    "df_rd = df[['usertype','birth year']]"
   ]
  },
  {
   "cell_type": "code",
   "execution_count": 11,
   "metadata": {},
   "outputs": [
    {
     "data": {
      "text/html": [
       "<div>\n",
       "<table border=\"1\" class=\"dataframe\">\n",
       "  <thead>\n",
       "    <tr style=\"text-align: right;\">\n",
       "      <th></th>\n",
       "      <th>usertype</th>\n",
       "      <th>birth year</th>\n",
       "    </tr>\n",
       "  </thead>\n",
       "  <tbody>\n",
       "    <tr>\n",
       "      <th>0</th>\n",
       "      <td>Subscriber</td>\n",
       "      <td>1991</td>\n",
       "    </tr>\n",
       "    <tr>\n",
       "      <th>1</th>\n",
       "      <td>Subscriber</td>\n",
       "      <td>1989</td>\n",
       "    </tr>\n",
       "    <tr>\n",
       "      <th>2</th>\n",
       "      <td>Subscriber</td>\n",
       "      <td>1990</td>\n",
       "    </tr>\n",
       "    <tr>\n",
       "      <th>3</th>\n",
       "      <td>Subscriber</td>\n",
       "      <td>1993</td>\n",
       "    </tr>\n",
       "    <tr>\n",
       "      <th>4</th>\n",
       "      <td>Subscriber</td>\n",
       "      <td>1977</td>\n",
       "    </tr>\n",
       "  </tbody>\n",
       "</table>\n",
       "</div>"
      ],
      "text/plain": [
       "     usertype  birth year\n",
       "0  Subscriber        1991\n",
       "1  Subscriber        1989\n",
       "2  Subscriber        1990\n",
       "3  Subscriber        1993\n",
       "4  Subscriber        1977"
      ]
     },
     "execution_count": 11,
     "metadata": {},
     "output_type": "execute_result"
    }
   ],
   "source": [
    "df_rd.head()"
   ]
  },
  {
   "cell_type": "code",
   "execution_count": 12,
   "metadata": {},
   "outputs": [
    {
     "name": "stderr",
     "output_type": "stream",
     "text": [
      "/usr/local/Anaconda3-5.0.0-Linux-x86_64/envs/PUI2016_Python2/lib/python2.7/site-packages/ipykernel/__main__.py:1: SettingWithCopyWarning: \n",
      "A value is trying to be set on a copy of a slice from a DataFrame.\n",
      "Try using .loc[row_indexer,col_indexer] = value instead\n",
      "\n",
      "See the caveats in the documentation: http://pandas.pydata.org/pandas-docs/stable/indexing.html#indexing-view-versus-copy\n",
      "  if __name__ == '__main__':\n"
     ]
    }
   ],
   "source": [
    "df_rd['age'] = df_rd['birth year'].map(lambda x : 2018 - int(x))"
   ]
  },
  {
   "cell_type": "code",
   "execution_count": 13,
   "metadata": {},
   "outputs": [
    {
     "data": {
      "text/html": [
       "<div>\n",
       "<table border=\"1\" class=\"dataframe\">\n",
       "  <thead>\n",
       "    <tr style=\"text-align: right;\">\n",
       "      <th></th>\n",
       "      <th>usertype</th>\n",
       "      <th>birth year</th>\n",
       "      <th>age</th>\n",
       "    </tr>\n",
       "  </thead>\n",
       "  <tbody>\n",
       "    <tr>\n",
       "      <th>0</th>\n",
       "      <td>Subscriber</td>\n",
       "      <td>1991</td>\n",
       "      <td>27</td>\n",
       "    </tr>\n",
       "    <tr>\n",
       "      <th>1</th>\n",
       "      <td>Subscriber</td>\n",
       "      <td>1989</td>\n",
       "      <td>29</td>\n",
       "    </tr>\n",
       "    <tr>\n",
       "      <th>2</th>\n",
       "      <td>Subscriber</td>\n",
       "      <td>1990</td>\n",
       "      <td>28</td>\n",
       "    </tr>\n",
       "    <tr>\n",
       "      <th>3</th>\n",
       "      <td>Subscriber</td>\n",
       "      <td>1993</td>\n",
       "      <td>25</td>\n",
       "    </tr>\n",
       "    <tr>\n",
       "      <th>4</th>\n",
       "      <td>Subscriber</td>\n",
       "      <td>1977</td>\n",
       "      <td>41</td>\n",
       "    </tr>\n",
       "  </tbody>\n",
       "</table>\n",
       "</div>"
      ],
      "text/plain": [
       "     usertype  birth year  age\n",
       "0  Subscriber        1991   27\n",
       "1  Subscriber        1989   29\n",
       "2  Subscriber        1990   28\n",
       "3  Subscriber        1993   25\n",
       "4  Subscriber        1977   41"
      ]
     },
     "execution_count": 13,
     "metadata": {},
     "output_type": "execute_result"
    }
   ],
   "source": [
    "df_rd.head()"
   ]
  },
  {
   "cell_type": "code",
   "execution_count": 14,
   "metadata": {},
   "outputs": [],
   "source": [
    "sfind = ((df_rd['usertype'] == 'Subscriber') & (df_rd['age'] < 100))\n",
    "cfind = ((df_rd['usertype'] == 'Customer') & (df_rd['age'] < 100))"
   ]
  },
  {
   "cell_type": "code",
   "execution_count": 15,
   "metadata": {},
   "outputs": [],
   "source": [
    "df_cus=df_rd.loc[cfind]\n",
    "df_sub=df_rd.loc[sfind]"
   ]
  },
  {
   "cell_type": "code",
   "execution_count": 16,
   "metadata": {},
   "outputs": [
    {
     "data": {
      "image/png": "[encoded data removed]",
      "text/plain": [
       "<matplotlib.figure.Figure at 0x7f5862e05f10>"
      ]
     },
     "metadata": {},
     "output_type": "display_data"
    }
   ],
   "source": [
    "color_map = df_rd['usertype'].map(lambda x: '#ADFF2F' if x==\"Subscriber\" else '#006400')\n",
    "plt.figure(figsize=(20,10))\n",
    "plt.bar(df_rd.index.values,df_rd['age'],color=color_map)\n",
    "plt.show()"
   ]
  },
  {
   "cell_type": "code",
   "execution_count": 63,
   "metadata": {},
   "outputs": [
    {
     "data": {
      "image/png": "[encoded data removed]",
      "text/plain": [
       "<matplotlib.figure.Figure at 0x7ff5eadbd150>"
      ]
     },
     "metadata": {},
     "output_type": "display_data"
    }
   ],
   "source": [
    "plt.figure(figsize=(7,7))\n",
    "plt.hist(df_cus['age'], bins = 10, color = 'IndianRed', label='Customer')\n",
    "plt.hist(df_sub['age'], bins = 10, color = 'SteelBlue', alpha=0.5, label='Subscriber')\n",
    "plt.legend()\n",
    "plt.xlabel('Age')\n",
    "plt.ylabel('Frequency')\n",
    "plt.show()"
   ]
  },
  {
   "cell_type": "markdown",
   "metadata": {},
   "source": [
    "Figure 1: Distribution of the Citibike users by their usertype in the various age groups."
   ]
  }
 ],
 "metadata": {
  "kernelspec": {
   "display_name": "PUI2016_Python2",
   "language": "python",
   "name": "pui2016_python2"
  },
  "language_info": {
   "codemirror_mode": {
    "name": "ipython",
    "version": 2
   },
   "file_extension": ".py",
   "mimetype": "text/x-python",
   "name": "python",
   "nbconvert_exporter": "python",
   "pygments_lexer": "ipython2",
   "version": "2.7.12"
  }
 },
 "nbformat": 4,
 "nbformat_minor": 2
}

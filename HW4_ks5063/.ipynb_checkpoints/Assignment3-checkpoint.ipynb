{
 "cells": [
  {
   "cell_type": "code",
   "execution_count": 1,
   "metadata": {},
   "outputs": [],
   "source": [
    "import pandas as pd\n",
    "import numpy as np\n",
    "import matplotlib as plt\n",
    "import os"
   ]
  },
  {
   "cell_type": "markdown",
   "metadata": {},
   "source": [
    "\n",
    "HYPOTHESIS FORMULATION\n",
    "\n",
    "IDEA : The new bus routes of bus line X8 improve circulation.\n",
    "\n",
    "NULL HYPOTHESIS: The average duration of trips of the new bus routes of bus line X8 is the same or higher than that of the original bus routes, significance level = 0.05.\n",
    "\n",
    "ALTERNATIVE HYPOTHESIS: The average duration of the new bus routes of bus line X8 is significantly lower.\n",
    "\n",
    "H0: $\\frac{\\sum{Duration_{\\mathrm{New}}}}{\\sum{Total_{\\mathrm{Trips}}}} >= \\frac{\\sum{Duration_{\\mathrm{Original}}}}{\\sum{Total_{\\mathrm{Trips}}}}$\n",
    "\n",
    "H1: $\\frac{\\sum{Duration_{\\mathrm{New}}}}{\\sum{Total_{\\mathrm{Trips}}}} < \\frac{\\sum{Duration_{\\mathrm{Original}}}}{\\sum{Total_{\\mathrm{Trips}}}}$"
   ]
  },
  {
   "cell_type": "code",
   "execution_count": 2,
   "metadata": {},
   "outputs": [
    {
     "name": "stdout",
     "output_type": "stream",
     "text": [
      "('PUIdata', '/nfshome/ks5063/PUIdata')\n"
     ]
    }
   ],
   "source": [
    "print(\"PUIdata\", os.getenv(\"PUIDATA\"))"
   ]
  },
  {
   "cell_type": "code",
   "execution_count": 3,
   "metadata": {},
   "outputs": [
    {
     "name": "stdout",
     "output_type": "stream",
     "text": [
      "('PUIdata', '/nfshome/ks5063/PUIdata')\n"
     ]
    }
   ],
   "source": [
    "#create the env variable if missing\n",
    "os.environ[\"PUIDATA\"] = \"%s/PUIdata\"%os.getenv(\"HOME\")\n",
    "\n",
    "print(\"PUIdata\", os.getenv(\"PUIDATA\"))"
   ]
  },
  {
   "cell_type": "code",
   "execution_count": 4,
   "metadata": {},
   "outputs": [
    {
     "name": "stdout",
     "output_type": "stream",
     "text": [
      "  % Total    % Received % Xferd  Average Speed   Time    Time     Time  Current\n",
      "                                 Dload  Upload   Total   Spent    Left  Speed\n",
      "100  1179  100  1179    0     0  10944      0 --:--:-- --:--:-- --:--:-- 11018\n"
     ]
    }
   ],
   "source": [
    "!curl -O https://raw.githubusercontent.com/fedhere/PUI2018_fb55/master/Lab4_fb55/times.txt"
   ]
  },
  {
   "cell_type": "code",
   "execution_count": 5,
   "metadata": {},
   "outputs": [],
   "source": [
    "!mv times.txt $PUIDATA"
   ]
  },
  {
   "cell_type": "code",
   "execution_count": 6,
   "metadata": {},
   "outputs": [
    {
     "name": "stdout",
     "output_type": "stream",
     "text": [
      "campaign_contributions.csv\t nypl_bronx.csv\r\n",
      "JC-201806-citibike-tripdata.csv  times.txt\r\n"
     ]
    }
   ],
   "source": [
    "!ls $PUIDATA"
   ]
  },
  {
   "cell_type": "code",
   "execution_count": 7,
   "metadata": {},
   "outputs": [],
   "source": [
    "path= os.getenv(\"PUIDATA\") + \"/times.txt\"\n",
    "with open(path) as f:\n",
    "    lines = f.read().splitlines()\n"
   ]
  },
  {
   "cell_type": "code",
   "execution_count": 8,
   "metadata": {},
   "outputs": [
    {
     "data": {
      "text/plain": [
       "34.46616168830001"
      ]
     },
     "execution_count": 8,
     "metadata": {},
     "output_type": "execute_result"
    }
   ],
   "source": [
    "sample_size=len(lines)\n",
    "sample_sum = 0\n",
    "for i in range(0,sample_size) :\n",
    "    sample_sum += float(lines[i])\n",
    "sample_mean=sample_sum/sample_size\n",
    "sample_mean"
   ]
  },
  {
   "cell_type": "code",
   "execution_count": 9,
   "metadata": {},
   "outputs": [],
   "source": [
    "population_mean = 36\n",
    "population_sd = 6"
   ]
  },
  {
   "cell_type": "code",
   "execution_count": 10,
   "metadata": {},
   "outputs": [
    {
     "name": "stdout",
     "output_type": "stream",
     "text": [
      "2.55639718617\n"
     ]
    }
   ],
   "source": [
    "z = (population_mean - sample_mean)/(population_sd/np.sqrt(sample_size))\n",
    "print(z)"
   ]
  },
  {
   "cell_type": "markdown",
   "metadata": {},
   "source": [
    "$z_{\\mathrm{95}}$= 1.645 (for 95% significance level)\n",
    "\n",
    "\n",
    "$z_{\\mathrm{test}}$= 2.5563\n",
    "\n",
    "Since $z_{\\mathrm{test}}$ > $z_{\\mathrm{95}}$\n",
    "\n",
    "Thus we can reject the NULL HYPOTHESIS."
   ]
  },
  {
   "cell_type": "code",
   "execution_count": null,
   "metadata": {},
   "outputs": [],
   "source": []
  }
 ],
 "metadata": {
  "kernelspec": {
   "display_name": "PUI2016_Python2",
   "language": "python",
   "name": "pui2016_python2"
  },
  "language_info": {
   "codemirror_mode": {
    "name": "ipython",
    "version": 2
   },
   "file_extension": ".py",
   "mimetype": "text/x-python",
   "name": "python",
   "nbconvert_exporter": "python",
   "pygments_lexer": "ipython2",
   "version": "2.7.12"
  }
 },
 "nbformat": 4,
 "nbformat_minor": 2
}
